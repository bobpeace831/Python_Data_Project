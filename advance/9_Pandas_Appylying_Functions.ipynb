{
 "cells": [
  {
   "cell_type": "markdown",
   "id": "d4e6f175",
   "metadata": {},
   "source": [
    "## Lecture Note"
   ]
  },
  {
   "cell_type": "code",
   "execution_count": null,
   "id": "19512284",
   "metadata": {},
   "outputs": [],
   "source": []
  },
  {
   "cell_type": "markdown",
   "id": "5447b53c",
   "metadata": {},
   "source": [
    "## Homework"
   ]
  },
  {
   "cell_type": "code",
   "execution_count": null,
   "id": "5db3b5e5",
   "metadata": {},
   "outputs": [],
   "source": []
  }
 ],
 "metadata": {
  "kernelspec": {
   "display_name": "python_course",
   "language": "python",
   "name": "python3"
  },
  "language_info": {
   "name": "python",
   "version": "3.11.13"
  }
 },
 "nbformat": 4,
 "nbformat_minor": 5
}
